{
 "cells": [
  {
   "cell_type": "markdown",
   "metadata": {},
   "source": [
    "# Webscrape college applications\n",
    "\n",
    "This notbook has been prepared as a prototype designed to test processes that will search college & university websites for pdf files that relate to early decision applications.\n",
    "\n",
    "## Step One: Prepare Directory Information\n",
    "\n",
    "This repository's Stata do file `ColAppScrape.do` uses the director file produced by the [StataIPEDSAll repository](https://github.com/adamrossnelson/StataIPEDSAll)."
   ]
  },
  {
   "cell_type": "code",
   "execution_count": null,
   "metadata": {},
   "outputs": [],
   "source": [
    "import sys\n",
    "import numpy as np\n",
    "import pandas as pd\n",
    "from pandas import Series, DataFrame"
   ]
  },
  {
   "cell_type": "code",
   "execution_count": null,
   "metadata": {},
   "outputs": [],
   "source": [
    "# Load directory data.\n",
    "IPEDSfile = pd.read_stata('../../statadata/IPEDSDirInfo02to16smlr.dta', preserve_dtypes=False)\n",
    "\n",
    "# Keep 2 and 4yr institutions.\n",
    "IPEDSfile['filter'] = np.where((IPEDSfile['sector']=='Public, 4-year or above') | \n",
    "                               (IPEDSfile['sector']=='Public, 2-year') |\n",
    "                               (IPEDSfile['sector']=='Private not-for-profit, 4-year or above') |\n",
    "                               (IPEDSfile['sector']=='Private not-for-profit, 2-year'), 1, 0)\n",
    "IPEDSfile = IPEDSfile[IPEDSfile['filter']==1]"
   ]
  },
  {
   "cell_type": "code",
   "execution_count": null,
   "metadata": {},
   "outputs": [],
   "source": [
    "# Remove www. prefix from webaddress.\n",
    "IPEDSfile['rootdom'] = IPEDSfile.loc[:, 'webaddr'].replace(regex=True, to_replace='www.', value='')\n",
    "# Remove miscellaneous slashes & other from webaddress.\n",
    "IPEDSfile['rootdom'] = IPEDSfile.loc[:, 'rootdom'].replace(regex=True, to_replace=r'/', value='')\n",
    "IPEDSfile['rootdom'] = IPEDSfile.loc[:, 'rootdom'].replace(regex=True, to_replace=r'HTTPS:', value='')"
   ]
  },
  {
   "cell_type": "code",
   "execution_count": null,
   "metadata": {},
   "outputs": [],
   "source": [
    "# Check results\n",
    "IPEDSfile[['unitid','instnm','rootdom','filter','sector','iclevel']].head(n=15)"
   ]
  },
  {
   "cell_type": "code",
   "execution_count": null,
   "metadata": {},
   "outputs": [],
   "source": [
    "IPEDSfile.describe()"
   ]
  },
  {
   "cell_type": "code",
   "execution_count": null,
   "metadata": {},
   "outputs": [],
   "source": [
    "# Create list of domains\n",
    "weblist = IPEDSfile['rootdom']"
   ]
  },
  {
   "cell_type": "markdown",
   "metadata": {},
   "source": [
    "## Step Two: Prepare Browser Object"
   ]
  },
  {
   "cell_type": "code",
   "execution_count": null,
   "metadata": {},
   "outputs": [],
   "source": [
    "import webbrowser\n",
    "from time import sleep\n",
    "from selenium import webdriver\n",
    "import os\n",
    "import requests\n",
    "import datetime"
   ]
  },
  {
   "cell_type": "code",
   "execution_count": null,
   "metadata": {},
   "outputs": [],
   "source": [
    "browser = webdriver.Firefox()\n",
    "print('Loaded Browser Here')\n",
    "# browser = webdriver.Chrome()"
   ]
  },
  {
   "cell_type": "markdown",
   "metadata": {},
   "source": [
    "# Step Three: Scrape For Each School"
   ]
  },
  {
   "cell_type": "code",
   "execution_count": null,
   "metadata": {},
   "outputs": [],
   "source": [
    "# Define a list to store record of errors.\n",
    "error_list = []\n",
    "\n",
    "# Iteratively loop through each institution's website.\n",
    "for school in weblist:\n",
    "    print('STARTING SCHOOL', str(school).upper())\n",
    "    searchstr = ''.join((r'https://www.google.com/search?as_q=early+decision&as_epq=&as_sitesearch=', \n",
    "                        school, '&as_filetype=pdf'))\n",
    "    browser.get(searchstr)\n",
    "    print('Search string is ', searchstr)\n",
    "    results = browser.find_elements_by_css_selector('h3 > a')\n",
    "    if len(results) == 0:\n",
    "        try:\n",
    "            check_captcha = browser.find_element_by_partial_link_text('Why did this happen')\n",
    "            print('At school, ', school.lower(), 'Google responded with CAPTCHA - will exit program.', end='\\n\\n')\n",
    "            error_list.append(''.join((school, '-', '.', '-EncounteredCAPTCHA-', '.')))\n",
    "            sys.exit()\n",
    "        else:\n",
    "            print('No results for school ', school.lower(), end='\\n\\n')\n",
    "            error_list.append(''.join((school, '-', '.', '-NoResults-', '.')))\n",
    "    for i in range (len(results)):\n",
    "        filelink = results[i].get_attribute('href')\n",
    "        try:\n",
    "            pdf = requests.get(filelink)\n",
    "            fname = ''.join((school,str(i),'.pdf'))\n",
    "            print('Filelink = ' + filelink)\n",
    "            print('Saved as : ' + fname)\n",
    "            print('Header info :' + str(pdf.headers), end='\\n\\n')\n",
    "            open(''.join((r'pdfs/', fname)), 'wb').write(pdf.content)\n",
    "        except ConnectionError:\n",
    "            print('There was a ConnectionError on the {}th iteration at : {}'.format(str(i), school.lower()))\n",
    "            error_list.append(''.join((school, '-', str(i), '-ConnectionError-', filelink)))\n",
    "        except:\n",
    "            print('There was an UnspecifiedError on the {}th iteration at : {}'.format(str(i), school))\n",
    "            error_list.append(''.join((school, '-', str(i), '-UnspecifiedError-', filelink)))"
   ]
  },
  {
   "cell_type": "code",
   "execution_count": null,
   "metadata": {},
   "outputs": [],
   "source": [
    "# Save the error log to a file for later reference.\n",
    "error_list = ['hihi','byebye','newnew']\n",
    "with open(\n",
    "    ''.join((\n",
    "        'er_log_', str(datetime.datetime.now())[2:16].replace(\" \", \"-\").replace(\":\",\"\"), '.log')), \n",
    "        mode='w') as logfile:\n",
    "            print('This is the error log file from {}'.format(str(datetime.datetime.now())), file = logfile)\n",
    "            for error_lines in error_list:\n",
    "                print(error_lines, file = logfile)\n",
    "logfile.close"
   ]
  }
 ],
 "metadata": {
  "kernelspec": {
   "display_name": "Python 3",
   "language": "python",
   "name": "python3"
  },
  "language_info": {
   "codemirror_mode": {
    "name": "ipython",
    "version": 3
   },
   "file_extension": ".py",
   "mimetype": "text/x-python",
   "name": "python",
   "nbconvert_exporter": "python",
   "pygments_lexer": "ipython3",
   "version": "3.6.4"
  }
 },
 "nbformat": 4,
 "nbformat_minor": 2
}
