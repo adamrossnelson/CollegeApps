{
 "cells": [
  {
   "cell_type": "markdown",
   "metadata": {},
   "source": [
    "# College Applications Tester\n",
    "\n",
    "This notebook is designed to test whether the documents collected by `ColAppScrape.ipynb` are (or are likely to be) college applications."
   ]
  },
  {
   "cell_type": "code",
   "execution_count": null,
   "metadata": {},
   "outputs": [],
   "source": [
    "import PyPDF2\n",
    "import os\n",
    "import re"
   ]
  },
  {
   "cell_type": "code",
   "execution_count": null,
   "metadata": {},
   "outputs": [],
   "source": [
    "# Make a list of PDFs for testing purposes.\n",
    "test_list = ['aamu.edu', 'allegany.edu', 'alasu.edu', 'albanytech.edu', 'barry.edu']\n",
    "# test_list = ['allegany.edu']"
   ]
  },
  {
   "cell_type": "code",
   "execution_count": null,
   "metadata": {},
   "outputs": [],
   "source": [
    "def isApplication(text):\n",
    "    appRegex = re.compile(r'(admission(s)? application)|(application for)')\n",
    "    ssnRegex = re.compile(r'(social security number)|(ssn)')\n",
    "    feeRegex = re.compile(r'fee(s)?')\n",
    "    \n",
    "    print('Checking app ' + str(appRegex.search(text)))\n",
    "    print('Checking ssn ' + str(ssnRegex.search(text)))\n",
    "    print('Checking fee ' + str(feeRegex.search(text)))\n",
    "    \n",
    "    if appRegex.search(text) == None or ssnRegex.search(text) == None or feeRegex.search(text) == None:\n",
    "        return False\n",
    "    else:\n",
    "        return True"
   ]
  },
  {
   "cell_type": "code",
   "execution_count": null,
   "metadata": {},
   "outputs": [],
   "source": [
    "# TODO: Build a log file that will report which files look to be college applications.\n",
    "\n",
    "for school in os.listdir(os.path.join('CollegeAppScrape')):\n",
    "    try:\n",
    "        reader = PyPDF2.PdfFileReader(open(os.path.join('CollegeAppScrape', school), 'rb'))\n",
    "        print('There are {} pages in {}.'.format(reader.numPages, school)\n",
    "        apptext = []\n",
    "        for pageNum in range(reader.numPages):\n",
    "            apptext.append(reader.getPage(pageNum).extractText().encode('utf-8'))\n",
    "\n",
    "        # print(apptext)\n",
    "        if isApplication(str(apptext).lower()) == True:\n",
    "            print(school + '  appears  to  be  an  application.'.upper())\n",
    "        else: \n",
    "            print(school + ' does not appear to be an application.'.upper())\n",
    "    except:\n",
    "        print(school + ' encountered an error.'.upper())\n",
    "        \n",
    "    print('')"
   ]
  },
  {
   "cell_type": "code",
   "execution_count": null,
   "metadata": {},
   "outputs": [],
   "source": []
  }
 ],
 "metadata": {
  "kernelspec": {
   "display_name": "Python 3",
   "language": "python",
   "name": "python3"
  },
  "language_info": {
   "codemirror_mode": {
    "name": "ipython",
    "version": 3
   },
   "file_extension": ".py",
   "mimetype": "text/x-python",
   "name": "python",
   "nbconvert_exporter": "python",
   "pygments_lexer": "ipython3",
   "version": "3.6.4"
  }
 },
 "nbformat": 4,
 "nbformat_minor": 2
}
