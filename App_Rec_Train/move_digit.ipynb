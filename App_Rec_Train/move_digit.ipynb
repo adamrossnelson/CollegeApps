{
 "cells": [
  {
   "cell_type": "markdown",
   "metadata": {},
   "source": [
    "# Explanation\n",
    "\n",
    "This routine changes the coding convention of aaa_appcodes.do\n",
    "\n",
    "Former convention : \n",
    "```Stata\n",
    "replace isApp = 0  if rootdom0 == \"hello.edu\"\n",
    "replace isApp = 0  if rootdom1 == \"hello.edu\"\n",
    "replace isApp = 0  if rootdom2 == \"hello.edu\"\n",
    "```\n",
    "\n",
    "Newer convention :\n",
    "```Stata\n",
    "replace isApp = 0  if rootdom == \"hello.edu0\"\n",
    "replace isApp = 0  if rootdom == \"hello.edu1\"\n",
    "replace isApp = 0  if rootdom == \"hello.edu2\"\n",
    "```"
   ]
  },
  {
   "cell_type": "code",
   "execution_count": null,
   "metadata": {},
   "outputs": [],
   "source": [
    "# Move the digit in the do file.\n",
    "def move_digit(string):\n",
    "    new_string = string[0:string.find('rootdom') + 7]\n",
    "    new_string = new_string + string[string.find('rootdom') + 8:len(string) - 1]\n",
    "    new_string = new_string + string[string.find('rootdom') + 7]\n",
    "    new_string = new_string + '\"'\n",
    "    return new_string"
   ]
  },
  {
   "cell_type": "code",
   "execution_count": null,
   "metadata": {},
   "outputs": [],
   "source": [
    "# Test string\n",
    "mystring = 'replace isApp = 0  if rootdom0 == \"hello.edu\"'"
   ]
  },
  {
   "cell_type": "code",
   "execution_count": null,
   "metadata": {},
   "outputs": [],
   "source": [
    "# Test output\n",
    "print(move_digit(mystring))\n",
    "print(move_digit('replace isApp = 1  if rootdom0 == \"aacc.edu\"'))"
   ]
  },
  {
   "cell_type": "code",
   "execution_count": null,
   "metadata": {},
   "outputs": [],
   "source": [
    "dofile = open('aaa_appcodes.do', mode='r')"
   ]
  },
  {
   "cell_type": "code",
   "execution_count": null,
   "metadata": {},
   "outputs": [],
   "source": [
    "newdo = []\n",
    "\n",
    "for lines in dofile.readlines()[69:]:\n",
    "    if lines.find('rootdom') == -1:\n",
    "        newdo.append(lines)\n",
    "    elif lines.find('rootdom') > -1:\n",
    "        newdo.append(move_digit(lines))\n",
    "\n",
    "newdo"
   ]
  },
  {
   "cell_type": "code",
   "execution_count": null,
   "metadata": {},
   "outputs": [],
   "source": [
    "# This cell writes newdo to a new file that can be pasted in App_Rec_Train/aaa_appcodes.do\n",
    "with open('aaa_appcodes_fixed' + '.do', mode='w') as newdofile:\n",
    "            for do_line in newdo:\n",
    "                print(do_line, file = newdofile)\n",
    "newdofile.close"
   ]
  },
  {
   "cell_type": "code",
   "execution_count": null,
   "metadata": {},
   "outputs": [],
   "source": []
  },
  {
   "cell_type": "code",
   "execution_count": null,
   "metadata": {},
   "outputs": [],
   "source": []
  },
  {
   "cell_type": "code",
   "execution_count": null,
   "metadata": {},
   "outputs": [],
   "source": []
  }
 ],
 "metadata": {
  "kernelspec": {
   "display_name": "Python 3",
   "language": "python",
   "name": "python3"
  },
  "language_info": {
   "codemirror_mode": {
    "name": "ipython",
    "version": 3
   },
   "file_extension": ".py",
   "mimetype": "text/x-python",
   "name": "python",
   "nbconvert_exporter": "python",
   "pygments_lexer": "ipython3",
   "version": "3.6.4"
  }
 },
 "nbformat": 4,
 "nbformat_minor": 2
}
